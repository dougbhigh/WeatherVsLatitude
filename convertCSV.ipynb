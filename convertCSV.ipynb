{
 "cells": [
  {
   "cell_type": "code",
   "execution_count": 1,
   "metadata": {},
   "outputs": [],
   "source": [
    "######################################################################################\n",
    "#  RUT-SOM-DATA-PT-06-2020-U-C                                          Douglas High #\n",
    "#   Web Design Challenge                                             August 24, 2020 #\n",
    "#      >convertCSV                                                                   #\n",
    "#   - convert csv file to html table code.                                           #\n",
    "######################################################################################"
   ]
  },
  {
   "cell_type": "code",
   "execution_count": 2,
   "metadata": {},
   "outputs": [],
   "source": [
    "########################################\n",
    "#00       I/O                          #\n",
    "#   a- import pandas.                  #\n",
    "#   b- read in csv file into pandas.   #\n",
    "#   c- convert to html code.           #\n",
    "########################################\n",
    "\n",
    "#a\n",
    "import pandas as pd\n",
    "\n",
    "#b\n",
    "cities=pd.read_csv(\"Resources/cities.csv\")\n",
    "\n",
    "#c\n",
    "cities.to_html(\"cities.html\")"
   ]
  },
  {
   "cell_type": "code",
   "execution_count": null,
   "metadata": {},
   "outputs": [],
   "source": []
  }
 ],
 "metadata": {
  "kernelspec": {
   "display_name": "Python 3",
   "language": "python",
   "name": "python3"
  },
  "language_info": {
   "codemirror_mode": {
    "name": "ipython",
    "version": 3
   },
   "file_extension": ".py",
   "mimetype": "text/x-python",
   "name": "python",
   "nbconvert_exporter": "python",
   "pygments_lexer": "ipython3",
   "version": "3.7.6"
  }
 },
 "nbformat": 4,
 "nbformat_minor": 4
}
